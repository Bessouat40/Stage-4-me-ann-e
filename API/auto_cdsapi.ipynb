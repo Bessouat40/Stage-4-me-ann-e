{
  "nbformat": 4,
  "nbformat_minor": 0,
  "metadata": {
    "colab": {
      "name": "auto_cdsapi.ipynb",
      "provenance": [],
      "collapsed_sections": []
    },
    "kernelspec": {
      "display_name": "Python 3",
      "name": "python3"
    },
    "language_info": {
      "name": "python"
    }
  },
  "cells": [
    {
      "cell_type": "code",
      "metadata": {
        "colab": {
          "base_uri": "https://localhost:8080/"
        },
        "id": "8fBRyFPqy2r3",
        "outputId": "b3a57dba-85f5-4acc-9426-0d412e294052"
      },
      "source": [
        "!pip install cdsapi\n",
        "import cdsapi\n",
        "from datetime import date, datetime\n",
        "import os\n",
        "from netCDF4 import Dataset\n",
        "import numpy as np\n",
        "import pandas as pd"
      ],
      "execution_count": 1,
      "outputs": [
        {
          "output_type": "stream",
          "text": [
            "Collecting cdsapi\n",
            "  Downloading https://files.pythonhosted.org/packages/31/6f/9196c6f12584bd4c92ff6879baedeb2227b0b1937ac231625d7b8178d510/cdsapi-0.5.1.tar.gz\n",
            "Requirement already satisfied: requests>=2.5.0 in /usr/local/lib/python3.7/dist-packages (from cdsapi) (2.23.0)\n",
            "Requirement already satisfied: tqdm in /usr/local/lib/python3.7/dist-packages (from cdsapi) (4.41.1)\n",
            "Requirement already satisfied: chardet<4,>=3.0.2 in /usr/local/lib/python3.7/dist-packages (from requests>=2.5.0->cdsapi) (3.0.4)\n",
            "Requirement already satisfied: urllib3!=1.25.0,!=1.25.1,<1.26,>=1.21.1 in /usr/local/lib/python3.7/dist-packages (from requests>=2.5.0->cdsapi) (1.24.3)\n",
            "Requirement already satisfied: idna<3,>=2.5 in /usr/local/lib/python3.7/dist-packages (from requests>=2.5.0->cdsapi) (2.10)\n",
            "Requirement already satisfied: certifi>=2017.4.17 in /usr/local/lib/python3.7/dist-packages (from requests>=2.5.0->cdsapi) (2021.5.30)\n",
            "Building wheels for collected packages: cdsapi\n",
            "  Building wheel for cdsapi (setup.py) ... \u001b[?25l\u001b[?25hdone\n",
            "  Created wheel for cdsapi: filename=cdsapi-0.5.1-py2.py3-none-any.whl size=11699 sha256=e5514798c576c7f1b712fa0d66cd096bf57e98dc4418448538514bb0a8f21240\n",
            "  Stored in directory: /root/.cache/pip/wheels/b3/da/d4/76acb1b249ba411fb70ca7baf0d6ab7d6177e1f0d14f1383c1\n",
            "Successfully built cdsapi\n",
            "Installing collected packages: cdsapi\n",
            "Successfully installed cdsapi-0.5.1\n"
          ],
          "name": "stdout"
        }
      ]
    },
    {
      "cell_type": "code",
      "metadata": {
        "colab": {
          "base_uri": "https://localhost:8080/",
          "height": 35
        },
        "id": "EdFUsdJUy7P9",
        "outputId": "35059804-f13c-4ad7-da4c-b3fb1e6210b1"
      },
      "source": [
        "os.chdir(\"/root\")\n",
        "os.getcwd()"
      ],
      "execution_count": 2,
      "outputs": [
        {
          "output_type": "execute_result",
          "data": {
            "application/vnd.google.colaboratory.intrinsic+json": {
              "type": "string"
            },
            "text/plain": [
              "'/root'"
            ]
          },
          "metadata": {
            "tags": []
          },
          "execution_count": 2
        }
      ]
    },
    {
      "cell_type": "code",
      "metadata": {
        "id": "A50DwMCHy_n6"
      },
      "source": [
        "!echo url: https://cds.climate.copernicus.eu/api/v2 >> .cdsapirc\n",
        "!echo key: 90554:9d58d139-f8ac-4ed0-8ca2-81ffd5f162e5 >> .cdsapirc"
      ],
      "execution_count": 3,
      "outputs": []
    },
    {
      "cell_type": "code",
      "metadata": {
        "id": "VPZ4gwO8zwjU"
      },
      "source": [
        "#aller chercher la key ici : https://cds.climate.copernicus.eu/user/login\n",
        "key = \"9d58d139-f8ac-4ed0-8ca2-81ffd5f162e5\"\n",
        "variable = ['10m_u_component_of_wind', '10m_v_component_of_wind', 'total_precipitation',]\n",
        "year = ['2018',]\n",
        "#month = ['01', '02', '03', '04', '05', '06', '07', '08', '09', '10', '11', '12',]\n",
        "month = ['10', '11',]\n",
        "day =  ['01', '02', '03', '04', '05', '06', '07', '08', '09', '10', '11', '12', '13', '14', '15'\n",
        "                    '16', '17', '18', '19', '20', '21', '22', '23', '24', '25', '26', '27', '28', '29', '30', '31',]\n",
        "time = ['00:00', '01:00', '02:00', '03:00', '04:00', '05:00','06:00','07:00','08:00','09:00','10:00','11:00','12:00',\n",
        "                      '13:00','14:00','15:00','16:00','17:00','18:00','19:00','20:00','21:00','22:00','23:00',]\n",
        "#area : [Nord, Ouest, Sud, Est]\n",
        "area =  [-39.74, 51.90, -63.62, -50.75,]\n",
        "nom_fichier = 'ml18_295b' "
      ],
      "execution_count": 19,
      "outputs": []
    },
    {
      "cell_type": "code",
      "metadata": {
        "id": "JVca-O_B0dpR"
      },
      "source": [
        "def return_cdsapi(nom_fichier, key, variable, year, month, day, time, area):\n",
        "  #aller chercher la key ici : https://cds.climate.copernicus.eu/user/login\n",
        "  print('\\n[------------]\\n')\n",
        "  os.chdir(\"/root\")\n",
        "  os.getcwd()\n",
        "\n",
        "  key = key\n",
        "  nom_fichier = nom_fichier + '.nc'\n",
        "\n",
        "  c = cdsapi.Client()\n",
        "\n",
        "  r = c.retrieve('reanalysis-era5-single-levels',\n",
        "            {\n",
        "              'product_type' : 'reanalysis',\n",
        "              'variable' : variable,\n",
        "              'year' : year,\n",
        "              'month' : month,\n",
        "              'day' : day,\n",
        "              'time' : time,\n",
        "              'area' : area,\n",
        "              'format' : 'netcdf',\n",
        "            },\n",
        "            nom_fichier,\n",
        "            )\n",
        "  \n",
        "  os.chdir(\"/content/csv\")\n",
        "  os.getcwd()\n",
        "  r.download(nom_fichier)\n",
        "  print('\\n[===>--------]\\n')"
      ],
      "execution_count": 20,
      "outputs": []
    },
    {
      "cell_type": "code",
      "metadata": {
        "id": "zF5wyCxm07b7"
      },
      "source": [
        "def mise_en_forme_nc(nom_fichier):\n",
        "  my_example_nc_file = \"/content/csv/\" + nom_fichier + '.nc'\n",
        "  fh = Dataset(my_example_nc_file, mode='r')\n",
        "\n",
        "  lons = fh.variables['longitude'][:]\n",
        "  lats = fh.variables['latitude'][:]\n",
        "  u10 = fh.variables['u10'][:]\n",
        "  v10 = fh.variables['v10'][:]\n",
        "  tp = fh.variables['tp'][:]\n",
        "  time_bis = fh.variables['time'][:]\n",
        "\n",
        "  time_units = fh.variables['time'].units\n",
        "\n",
        "  def transf_temps(time) :\n",
        "    time_str = float(time)/24 + date.toordinal(date(1900,1,1))\n",
        "    return date.fromordinal(int(time_str))\n",
        "\n",
        "  time_ = [time_bis[i] for i in range(len(time_bis))]\n",
        "\n",
        "  data = pd.DataFrame()\n",
        "  data['time'] = time_\n",
        "  data['time'] = data['time'].apply(lambda x : transf_temps(x))\n",
        "\n",
        "  n = len(time)\n",
        "  hour_ = time[0][0:2]\n",
        "  data['hour'] = data['time']\n",
        "  data['day'] = data['time']\n",
        "  data['month'] = data['time']\n",
        "  data['year'] = data['time']\n",
        "  j=0\n",
        "\n",
        "  for i in range(len(data)) :\n",
        "      data[\"hour\"].loc[i] = hour_\n",
        "      if hour_ == time[len(time)-1][0:2]:\n",
        "        j = 0\n",
        "        hour_ = time[j][0:2]\n",
        "      else : \n",
        "        j+=1\n",
        "        hour_ = time[j][0:2]\n",
        "      data['day'].loc[i] = data['time'].loc[i].day\n",
        "      data['month'].loc[i] = data['time'].loc[i].month\n",
        "      data['year'].loc[i] = data['time'].loc[i].year\n",
        "\n",
        "  data['year'] = data['year'].apply(int)\n",
        "  data['month'] = data['month'].apply(int)\n",
        "  data['day'] = data['day'].apply(int)\n",
        "  data['hour'] = data['hour'].apply(int)\n",
        "  \n",
        "  print('\\n[======>-----]\\n')\n",
        "\n",
        "  return data, lons, lats, u10, v10, tp"
      ],
      "execution_count": 21,
      "outputs": []
    },
    {
      "cell_type": "code",
      "metadata": {
        "id": "7s4Nxjrf97XK"
      },
      "source": [
        "def prepare_coord_target(nom_fichier):\n",
        "  dir = \"/content/csv/\" + nom_fichier + '.csv'\n",
        "  test_ = pd.read_csv(dir)\n",
        "  test_.columns = ['time', 'long', 'lat', 'profondeur']\n",
        "  test_['time'] = test_['time'].apply(lambda x : pd.Timestamp(datetime.utcfromtimestamp(x).strftime('%Y-%m-%d %H:%M:%S')))\n",
        "\n",
        "  test_['year'] = test_['time']\n",
        "  test_['month'] = test_['time']\n",
        "  test_['day'] = test_['time']\n",
        "  test_['hour'] = test_['time']\n",
        "\n",
        "  for i in range(len(test_)):\n",
        "    test_['year'].loc[i] = test_['time'].loc[i].year\n",
        "    test_['month'].loc[i] = test_['time'].loc[i].month\n",
        "    test_['day'].loc[i] = test_['time'].loc[i].day\n",
        "    test_['hour'].loc[i] = test_['time'].loc[i].hour\n",
        "\n",
        "  group_gps = test_.groupby(by=['year','month', 'day', 'hour'])\n",
        "  i=0\n",
        "  moy_long = []\n",
        "  moy_lat = []\n",
        "  moy_prof = []\n",
        "\n",
        "\n",
        "  for key,item in group_gps:\n",
        "    a_group = group_gps.get_group(key)\n",
        "    moy_long.append(np.mean(a_group['long']))\n",
        "    moy_lat.append(np.mean(a_group['lat']))\n",
        "    moy_prof.append(np.mean(a_group['prof']))\n",
        "\n",
        "  test_fin = test_[['year', 'month', 'day', 'hour']].drop_duplicates()\n",
        "  test_fin['long'] = moy_long\n",
        "  test_fin['lat'] = moy_lat\n",
        "  test_fin['year'] = test_fin['year'].apply(int)\n",
        "  test_fin['month'] = test_fin['month'].apply(int)\n",
        "  test_fin['day'] = test_fin['day'].apply(int)\n",
        "  test_fin['hour'] = test_fin['hour'].apply(int)\n",
        "  test_fin['profondeur'] = moy_prof\n",
        "\n",
        "  print('\\n[=========>--]\\n')\n",
        "\n",
        "  return test_fin.reset_index().drop(['index'], axis=1)"
      ],
      "execution_count": 22,
      "outputs": []
    },
    {
      "cell_type": "code",
      "metadata": {
        "id": "aj4vEjCnzX0h"
      },
      "source": [
        "def prepare_coord_target2(nom_fichier):\n",
        "  dir = \"/content/csv/\" + nom_fichier + '.csv'\n",
        "  test_ = pd.read_csv(dir)\n",
        "\n",
        "  group_gps = test_.groupby(by=['year','month', 'day', 'hour'])\n",
        "  i=0\n",
        "  moy_long = []\n",
        "  moy_lat = []\n",
        "  moy_prof = []\n",
        "\n",
        "\n",
        "  for key,item in group_gps:\n",
        "    a_group = group_gps.get_group(key)\n",
        "    moy_long.append(np.mean(a_group['long']))\n",
        "    moy_lat.append(np.mean(a_group['lat']))\n",
        "    moy_prof.append(np.mean(a_group['prof']))\n",
        "\n",
        "  test_fin = test_[['year', 'month', 'day', 'hour']].drop_duplicates()\n",
        "  test_fin['long'] = moy_long\n",
        "  test_fin['lat'] = moy_lat\n",
        "  test_fin['year'] = test_fin['year'].apply(int)\n",
        "  test_fin['month'] = test_fin['month'].apply(int)\n",
        "  test_fin['day'] = test_fin['day'].apply(int)\n",
        "  test_fin['hour'] = test_fin['hour'].apply(int)\n",
        "  test_fin['profondeur'] = moy_prof\n",
        "\n",
        "  print('\\n[=========>--]\\n')\n",
        "\n",
        "  return test_fin.reset_index().drop(['index'], axis=1)"
      ],
      "execution_count": 23,
      "outputs": []
    },
    {
      "cell_type": "code",
      "metadata": {
        "id": "0MT_luZG80lV"
      },
      "source": [
        "#df_spams_fin : df1, data : df2\n",
        "def creation_complexe(df1, df2, u10, v10, tp, lats, lons):\n",
        "  u10_ = []\n",
        "  v10_ = []\n",
        "  tp_ = []\n",
        "  prof_ = []\n",
        "\n",
        "  for i in range(len(df1)) :\n",
        "    j=0\n",
        "    n = len(df2)\n",
        "    test_time = date(df2['year'].loc[j], df2['month'].loc[j], df2['day'].loc[j])\n",
        "    test_hour = int(df2['hour'].loc[j])\n",
        "\n",
        "    test_time_ = date(df1['year'].iloc[i], df1['month'].iloc[i], df1['day'].iloc[i])\n",
        "    test_hour_ = int(df1['hour'].iloc[i])\n",
        "\n",
        "    condition1 = test_time != test_time_\n",
        "    condition2 = test_hour != test_hour_\n",
        "    condition = condition1 or condition2\n",
        "\n",
        "    while condition :\n",
        "      if j == n-1 : \n",
        "        break\n",
        "      test_time = date(df2['year'].loc[j], df2['month'].loc[j], df2['day'].loc[j])\n",
        "      test_hour = int(df2['hour'].loc[j])\n",
        "      condition1 = test_time != test_time_\n",
        "      condition2 = test_hour != test_hour_\n",
        "      condition = condition1 or condition2\n",
        "      j+=1\n",
        "\n",
        "    if j == n-1 : None\n",
        "\n",
        "    else : \n",
        "      lat_test = df1['lat'].loc[i]\n",
        "      long_test = df1['long'].loc[i]\n",
        "\n",
        "      diff_lat = abs(lats-lat_test)\n",
        "      idx_lat = np.argmin(diff_lat)\n",
        "\n",
        "      diff_long = abs(lons-long_test)\n",
        "      idx_long = np.argmin(diff_long)\n",
        "\n",
        "      u10_.append(u10[j][idx_lat][idx_long])\n",
        "      v10_.append(v10[j][idx_lat][idx_long])\n",
        "      tp_.append(tp[j][idx_lat][idx_long])\n",
        "      prof_.append(df1['profondeur'].loc[i])\n",
        "\n",
        "  data_date = df2.merge(df1, on = ['year', 'month', 'day', 'hour'])\n",
        "  data_fin = pd.DataFrame(data={'year':data_date['year'],\n",
        "                               'month':data_date['month'],\n",
        "                               'day':data_date['day'],\n",
        "                               'hour':data_date['hour'],\n",
        "                               'u10':u10_,\n",
        "                               'v10':v10_,\n",
        "                               'tp':tp_,\n",
        "                                'profondeur':prof_})\n",
        "  print('\\n[============]\\n')\n",
        "  return data_fin"
      ],
      "execution_count": 24,
      "outputs": []
    },
    {
      "cell_type": "code",
      "metadata": {
        "id": "YIkPd1yZ9Ey1"
      },
      "source": [
        "#type_crea == complexe si les coordonnées ne sont pas fixes\n",
        "#df1 : mettre chemin du csv\n",
        "def creation_finale(df1, nom_fichier, key, variable, year, month, day, time, area, type_crea = 'complexe', pret = True) :\n",
        "  return_cdsapi(nom_fichier, key, variable, year, month, day, time, area)\n",
        "  data, lons, lats, u10, v10, tp = mise_en_forme_nc(nom_fichier)\n",
        "  if pret == True : \n",
        "    df = prepare_coord_target2(df1)\n",
        "  else :  \n",
        "    df = prepare_coord_target(df1)\n",
        "  test = creation_complexe(df, data, u10, v10, tp, lats, lons)\n",
        "  nom = nom_fichier + \"_final.csv\"\n",
        "  test.to_csv(nom, index= False)\n",
        "  return test"
      ],
      "execution_count": 25,
      "outputs": []
    },
    {
      "cell_type": "code",
      "metadata": {
        "colab": {
          "base_uri": "https://localhost:8080/"
        },
        "id": "UTz-Pp8G8h9p",
        "outputId": "1b04a9d0-2a1e-4e06-9964-e9cf825b82bf"
      },
      "source": [
        "df = creation_finale(\"ml18_295b_coord_finale\", nom_fichier, key, variable, year, month, day, time, area)"
      ],
      "execution_count": 26,
      "outputs": [
        {
          "output_type": "stream",
          "text": [
            "\n",
            "[------------]\n",
            "\n"
          ],
          "name": "stdout"
        },
        {
          "output_type": "stream",
          "text": [
            "2021-07-01 09:08:46,188 INFO Welcome to the CDS\n",
            "2021-07-01 09:08:46,193 INFO Sending request to https://cds.climate.copernicus.eu/api/v2/resources/reanalysis-era5-single-levels\n",
            "2021-07-01 09:08:46,340 INFO Request is queued\n",
            "2021-07-01 09:08:51,506 INFO Request is running\n",
            "2021-07-01 09:15:06,637 INFO Request is completed\n",
            "2021-07-01 09:15:06,639 INFO Downloading https://download-0005.copernicus-climate.eu/cache-compute-0005/cache/data8/adaptor.mars.internal-1625130755.7091937-12689-17-447ccb1e-fb18-4873-b8af-4c6d873e2004.nc to ml18_295b.nc (774M)\n",
            "2021-07-01 09:17:17,941 INFO Download rate 5.9M/s\n",
            "2021-07-01 09:17:17,944 INFO Downloading https://download-0005.copernicus-climate.eu/cache-compute-0005/cache/data8/adaptor.mars.internal-1625130755.7091937-12689-17-447ccb1e-fb18-4873-b8af-4c6d873e2004.nc to ml18_295b.nc (774M)\n",
            "2021-07-01 09:20:39,022 INFO Download rate 3.8M/s\n"
          ],
          "name": "stderr"
        },
        {
          "output_type": "stream",
          "text": [
            "\n",
            "[===>--------]\n",
            "\n",
            "\n",
            "[======>-----]\n",
            "\n",
            "\n",
            "[=========>--]\n",
            "\n",
            "\n",
            "[============]\n",
            "\n"
          ],
          "name": "stdout"
        }
      ]
    },
    {
      "cell_type": "code",
      "metadata": {
        "id": "V-LuM2D28RxB",
        "colab": {
          "base_uri": "https://localhost:8080/",
          "height": 204
        },
        "outputId": "587c16f0-4c97-43f1-83ad-38f3da357c87"
      },
      "source": [
        "df.head()"
      ],
      "execution_count": 27,
      "outputs": [
        {
          "output_type": "execute_result",
          "data": {
            "text/html": [
              "<div>\n",
              "<style scoped>\n",
              "    .dataframe tbody tr th:only-of-type {\n",
              "        vertical-align: middle;\n",
              "    }\n",
              "\n",
              "    .dataframe tbody tr th {\n",
              "        vertical-align: top;\n",
              "    }\n",
              "\n",
              "    .dataframe thead th {\n",
              "        text-align: right;\n",
              "    }\n",
              "</style>\n",
              "<table border=\"1\" class=\"dataframe\">\n",
              "  <thead>\n",
              "    <tr style=\"text-align: right;\">\n",
              "      <th></th>\n",
              "      <th>year</th>\n",
              "      <th>month</th>\n",
              "      <th>day</th>\n",
              "      <th>hour</th>\n",
              "      <th>u10</th>\n",
              "      <th>v10</th>\n",
              "      <th>tp</th>\n",
              "      <th>profondeur</th>\n",
              "    </tr>\n",
              "  </thead>\n",
              "  <tbody>\n",
              "    <tr>\n",
              "      <th>0</th>\n",
              "      <td>2018</td>\n",
              "      <td>10</td>\n",
              "      <td>22</td>\n",
              "      <td>21</td>\n",
              "      <td>7.820206</td>\n",
              "      <td>9.189895</td>\n",
              "      <td>0.000064</td>\n",
              "      <td>64.645879</td>\n",
              "    </tr>\n",
              "    <tr>\n",
              "      <th>1</th>\n",
              "      <td>2018</td>\n",
              "      <td>10</td>\n",
              "      <td>22</td>\n",
              "      <td>22</td>\n",
              "      <td>7.507843</td>\n",
              "      <td>9.230726</td>\n",
              "      <td>0.000031</td>\n",
              "      <td>48.085397</td>\n",
              "    </tr>\n",
              "    <tr>\n",
              "      <th>2</th>\n",
              "      <td>2018</td>\n",
              "      <td>10</td>\n",
              "      <td>22</td>\n",
              "      <td>23</td>\n",
              "      <td>7.336120</td>\n",
              "      <td>9.290860</td>\n",
              "      <td>0.000024</td>\n",
              "      <td>51.419499</td>\n",
              "    </tr>\n",
              "    <tr>\n",
              "      <th>3</th>\n",
              "      <td>2018</td>\n",
              "      <td>10</td>\n",
              "      <td>23</td>\n",
              "      <td>0</td>\n",
              "      <td>7.050176</td>\n",
              "      <td>9.489078</td>\n",
              "      <td>0.000033</td>\n",
              "      <td>32.760767</td>\n",
              "    </tr>\n",
              "    <tr>\n",
              "      <th>4</th>\n",
              "      <td>2018</td>\n",
              "      <td>10</td>\n",
              "      <td>23</td>\n",
              "      <td>1</td>\n",
              "      <td>6.683420</td>\n",
              "      <td>9.618253</td>\n",
              "      <td>0.000030</td>\n",
              "      <td>49.146080</td>\n",
              "    </tr>\n",
              "  </tbody>\n",
              "</table>\n",
              "</div>"
            ],
            "text/plain": [
              "   year  month  day  hour       u10       v10        tp  profondeur\n",
              "0  2018     10   22    21  7.820206  9.189895  0.000064   64.645879\n",
              "1  2018     10   22    22  7.507843  9.230726  0.000031   48.085397\n",
              "2  2018     10   22    23  7.336120  9.290860  0.000024   51.419499\n",
              "3  2018     10   23     0  7.050176  9.489078  0.000033   32.760767\n",
              "4  2018     10   23     1  6.683420  9.618253  0.000030   49.146080"
            ]
          },
          "metadata": {
            "tags": []
          },
          "execution_count": 27
        }
      ]
    }
  ]
}