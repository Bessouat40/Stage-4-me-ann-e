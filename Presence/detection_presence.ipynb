{
 "cells": [
  {
   "cell_type": "markdown",
   "metadata": {},
   "source": [
    "---\n",
    "# Library importation\n",
    "---"
   ]
  },
  {
   "cell_type": "code",
   "execution_count": 29,
   "metadata": {},
   "outputs": [
    {
     "name": "stdout",
     "output_type": "stream",
     "text": [
      "ok\n"
     ]
    }
   ],
   "source": [
    "import pandas as pd\n",
    "import pickle\n",
    "import numpy as np\n",
    "import os\n",
    "import seaborn as sns\n",
    "from scipy.io import wavfile\n",
    "\n",
    "#ML\n",
    "import sklearn\n",
    "from sklearn import ensemble\n",
    "from sklearn.linear_model import LinearRegression\n",
    "from sklearn.ensemble import RandomForestRegressor\n",
    "from sklearn import metrics\n",
    "from sklearn.metrics import confusion_matrix\n",
    "from sklearn.model_selection import train_test_split, KFold, GridSearchCV, cross_val_predict\n",
    "#from sklearn.feature_selection import RFECV, SequentialFeatureSelector\n",
    "from sklearn.experimental import enable_halving_search_cv  # noqa\n",
    "from sklearn.model_selection import HalvingGridSearchCV\n",
    "from sklearn.datasets import make_regression\n",
    "\n",
    "from sklearn.model_selection import train_test_split, KFold, GridSearchCV, cross_val_predict\n",
    "\n",
    "#import catboost\n",
    "\n",
    "from sklearn.preprocessing import StandardScaler, MinMaxScaler\n",
    "from sklearn.decomposition import PCA\n",
    "\n",
    "#DL\n",
    "from keras.models import Sequential, Model, load_model\n",
    "from keras.layers import Dense, Activation, Dropout, BatchNormalization, Input\n",
    "from keras.callbacks import EarlyStopping\n",
    "\n",
    "from bibliotheque_ensta import *\n",
    "\n",
    "print('ok')"
   ]
  },
  {
   "cell_type": "markdown",
   "metadata": {},
   "source": [
    "---\n",
    "# Data importation\n",
    "---"
   ]
  },
  {
   "cell_type": "code",
   "execution_count": 2,
   "metadata": {},
   "outputs": [
    {
     "data": {
      "text/html": [
       "<div>\n",
       "<style scoped>\n",
       "    .dataframe tbody tr th:only-of-type {\n",
       "        vertical-align: middle;\n",
       "    }\n",
       "\n",
       "    .dataframe tbody tr th {\n",
       "        vertical-align: top;\n",
       "    }\n",
       "\n",
       "    .dataframe thead th {\n",
       "        text-align: right;\n",
       "    }\n",
       "</style>\n",
       "<table border=\"1\" class=\"dataframe\">\n",
       "  <thead>\n",
       "    <tr style=\"text-align: right;\">\n",
       "      <th></th>\n",
       "      <th>dataset</th>\n",
       "      <th>filename</th>\n",
       "      <th>start_time</th>\n",
       "      <th>end_time</th>\n",
       "      <th>start_frequency</th>\n",
       "      <th>end_frequency</th>\n",
       "      <th>annotation</th>\n",
       "      <th>annotator</th>\n",
       "    </tr>\n",
       "  </thead>\n",
       "  <tbody>\n",
       "    <tr>\n",
       "      <th>0</th>\n",
       "      <td>Glider SPAms 2019</td>\n",
       "      <td>29_125_040319_152539_68_HYDRO.wav</td>\n",
       "      <td>0</td>\n",
       "      <td>600</td>\n",
       "      <td>NaN</td>\n",
       "      <td>2000</td>\n",
       "      <td>Cachalot</td>\n",
       "      <td>Brest</td>\n",
       "    </tr>\n",
       "    <tr>\n",
       "      <th>1</th>\n",
       "      <td>Glider SPAms 2019</td>\n",
       "      <td>29_125_040319_151539_70_HYDRO.wav</td>\n",
       "      <td>0</td>\n",
       "      <td>600</td>\n",
       "      <td>NaN</td>\n",
       "      <td>2000</td>\n",
       "      <td>Cachalot</td>\n",
       "      <td>Brest</td>\n",
       "    </tr>\n",
       "    <tr>\n",
       "      <th>2</th>\n",
       "      <td>Glider SPAms 2019</td>\n",
       "      <td>29_126_040319_155539_76_HYDRO.wav</td>\n",
       "      <td>0</td>\n",
       "      <td>600</td>\n",
       "      <td>NaN</td>\n",
       "      <td>2000</td>\n",
       "      <td>Cachalot</td>\n",
       "      <td>Brest</td>\n",
       "    </tr>\n",
       "    <tr>\n",
       "      <th>3</th>\n",
       "      <td>Glider SPAms 2019</td>\n",
       "      <td>29_138_040319_223539_95_HYDRO.wav</td>\n",
       "      <td>0</td>\n",
       "      <td>600</td>\n",
       "      <td>NaN</td>\n",
       "      <td>2000</td>\n",
       "      <td>Son impulsionnel Indetermine</td>\n",
       "      <td>Brest</td>\n",
       "    </tr>\n",
       "    <tr>\n",
       "      <th>4</th>\n",
       "      <td>Glider SPAms 2019</td>\n",
       "      <td>29_139_040319_230539_86_HYDRO.wav</td>\n",
       "      <td>0</td>\n",
       "      <td>600</td>\n",
       "      <td>NaN</td>\n",
       "      <td>2000</td>\n",
       "      <td>Son impulsionnel Indetermine</td>\n",
       "      <td>Brest</td>\n",
       "    </tr>\n",
       "  </tbody>\n",
       "</table>\n",
       "</div>"
      ],
      "text/plain": [
       "             dataset                           filename  start_time  end_time  \\\n",
       "0  Glider SPAms 2019  29_125_040319_152539_68_HYDRO.wav           0       600   \n",
       "1  Glider SPAms 2019  29_125_040319_151539_70_HYDRO.wav           0       600   \n",
       "2  Glider SPAms 2019  29_126_040319_155539_76_HYDRO.wav           0       600   \n",
       "3  Glider SPAms 2019  29_138_040319_223539_95_HYDRO.wav           0       600   \n",
       "4  Glider SPAms 2019  29_139_040319_230539_86_HYDRO.wav           0       600   \n",
       "\n",
       "   start_frequency  end_frequency                    annotation annotator  \n",
       "0              NaN           2000                      Cachalot     Brest  \n",
       "1              NaN           2000                      Cachalot     Brest  \n",
       "2              NaN           2000                      Cachalot     Brest  \n",
       "3              NaN           2000  Son impulsionnel Indetermine     Brest  \n",
       "4              NaN           2000  Son impulsionnel Indetermine     Brest  "
      ]
     },
     "execution_count": 2,
     "metadata": {},
     "output_type": "execute_result"
    }
   ],
   "source": [
    "df = pd.read_csv('det_MF_glider_PPDet_20210112.csv')\n",
    "df.head()"
   ]
  },
  {
   "cell_type": "code",
   "execution_count": 3,
   "metadata": {},
   "outputs": [
    {
     "data": {
      "text/html": [
       "<div>\n",
       "<style scoped>\n",
       "    .dataframe tbody tr th:only-of-type {\n",
       "        vertical-align: middle;\n",
       "    }\n",
       "\n",
       "    .dataframe tbody tr th {\n",
       "        vertical-align: top;\n",
       "    }\n",
       "\n",
       "    .dataframe thead th {\n",
       "        text-align: right;\n",
       "    }\n",
       "</style>\n",
       "<table border=\"1\" class=\"dataframe\">\n",
       "  <thead>\n",
       "    <tr style=\"text-align: right;\">\n",
       "      <th></th>\n",
       "      <th>dataset</th>\n",
       "      <th>filename</th>\n",
       "      <th>start_time</th>\n",
       "      <th>end_time</th>\n",
       "      <th>start_frequency</th>\n",
       "      <th>end_frequency</th>\n",
       "      <th>annotation</th>\n",
       "      <th>annotator</th>\n",
       "    </tr>\n",
       "  </thead>\n",
       "  <tbody>\n",
       "    <tr>\n",
       "      <th>456</th>\n",
       "      <td>Glider SPAms 2019</td>\n",
       "      <td>29_227_120319_003538_374_HYDRO.wav</td>\n",
       "      <td>0</td>\n",
       "      <td>600</td>\n",
       "      <td>NaN</td>\n",
       "      <td>2000</td>\n",
       "      <td>Orque vocalise</td>\n",
       "      <td>Brest</td>\n",
       "    </tr>\n",
       "    <tr>\n",
       "      <th>457</th>\n",
       "      <td>Glider SPAms 2019</td>\n",
       "      <td>29_227_120319_004538_442_HYDRO.wav</td>\n",
       "      <td>0</td>\n",
       "      <td>600</td>\n",
       "      <td>NaN</td>\n",
       "      <td>2000</td>\n",
       "      <td>Orque vocalise</td>\n",
       "      <td>Brest</td>\n",
       "    </tr>\n",
       "    <tr>\n",
       "      <th>582</th>\n",
       "      <td>Glider SPAms 2019</td>\n",
       "      <td>29_238_130319_192539_689_HYDRO.wav</td>\n",
       "      <td>0</td>\n",
       "      <td>600</td>\n",
       "      <td>NaN</td>\n",
       "      <td>2000</td>\n",
       "      <td>Orque vocalise</td>\n",
       "      <td>Brest</td>\n",
       "    </tr>\n",
       "    <tr>\n",
       "      <th>595</th>\n",
       "      <td>Glider SPAms 2019</td>\n",
       "      <td>29_240_140319_032539_587_HYDRO.wav</td>\n",
       "      <td>0</td>\n",
       "      <td>600</td>\n",
       "      <td>NaN</td>\n",
       "      <td>2000</td>\n",
       "      <td>Orque vocalise</td>\n",
       "      <td>Brest</td>\n",
       "    </tr>\n",
       "    <tr>\n",
       "      <th>794</th>\n",
       "      <td>Glider SPAms 2019</td>\n",
       "      <td>30_100_020419_165557_311_HYDRO.wav</td>\n",
       "      <td>0</td>\n",
       "      <td>600</td>\n",
       "      <td>NaN</td>\n",
       "      <td>2000</td>\n",
       "      <td>Orque vocalise</td>\n",
       "      <td>Brest</td>\n",
       "    </tr>\n",
       "    <tr>\n",
       "      <th>...</th>\n",
       "      <td>...</td>\n",
       "      <td>...</td>\n",
       "      <td>...</td>\n",
       "      <td>...</td>\n",
       "      <td>...</td>\n",
       "      <td>...</td>\n",
       "      <td>...</td>\n",
       "      <td>...</td>\n",
       "    </tr>\n",
       "    <tr>\n",
       "      <th>1556</th>\n",
       "      <td>Glider SPAms 2019</td>\n",
       "      <td>30_112_040419_144557_4_HYDRO.wav</td>\n",
       "      <td>0</td>\n",
       "      <td>600</td>\n",
       "      <td>NaN</td>\n",
       "      <td>2000</td>\n",
       "      <td>Orque vocalise</td>\n",
       "      <td>Brest</td>\n",
       "    </tr>\n",
       "    <tr>\n",
       "      <th>1558</th>\n",
       "      <td>Glider SPAms 2019</td>\n",
       "      <td>30_112_040419_165557_592_HYDRO.wav</td>\n",
       "      <td>0</td>\n",
       "      <td>600</td>\n",
       "      <td>NaN</td>\n",
       "      <td>2000</td>\n",
       "      <td>Orque vocalise</td>\n",
       "      <td>Brest</td>\n",
       "    </tr>\n",
       "    <tr>\n",
       "      <th>1559</th>\n",
       "      <td>Glider SPAms 2019</td>\n",
       "      <td>30_113_040419_190557_182_HYDRO.wav</td>\n",
       "      <td>0</td>\n",
       "      <td>600</td>\n",
       "      <td>NaN</td>\n",
       "      <td>2000</td>\n",
       "      <td>Orque vocalise</td>\n",
       "      <td>Brest</td>\n",
       "    </tr>\n",
       "    <tr>\n",
       "      <th>1562</th>\n",
       "      <td>Glider SPAms 2019</td>\n",
       "      <td>30_114_050419_002557_671_HYDRO.wav</td>\n",
       "      <td>0</td>\n",
       "      <td>600</td>\n",
       "      <td>NaN</td>\n",
       "      <td>2000</td>\n",
       "      <td>Orque vocalise</td>\n",
       "      <td>Brest</td>\n",
       "    </tr>\n",
       "    <tr>\n",
       "      <th>1563</th>\n",
       "      <td>Glider SPAms 2019</td>\n",
       "      <td>30_114_050419_011557_310_HYDRO.wav</td>\n",
       "      <td>0</td>\n",
       "      <td>600</td>\n",
       "      <td>NaN</td>\n",
       "      <td>2000</td>\n",
       "      <td>Orque vocalise</td>\n",
       "      <td>Brest</td>\n",
       "    </tr>\n",
       "  </tbody>\n",
       "</table>\n",
       "<p>329 rows × 8 columns</p>\n",
       "</div>"
      ],
      "text/plain": [
       "                dataset                            filename  start_time  \\\n",
       "456   Glider SPAms 2019  29_227_120319_003538_374_HYDRO.wav           0   \n",
       "457   Glider SPAms 2019  29_227_120319_004538_442_HYDRO.wav           0   \n",
       "582   Glider SPAms 2019  29_238_130319_192539_689_HYDRO.wav           0   \n",
       "595   Glider SPAms 2019  29_240_140319_032539_587_HYDRO.wav           0   \n",
       "794   Glider SPAms 2019  30_100_020419_165557_311_HYDRO.wav           0   \n",
       "...                 ...                                 ...         ...   \n",
       "1556  Glider SPAms 2019    30_112_040419_144557_4_HYDRO.wav           0   \n",
       "1558  Glider SPAms 2019  30_112_040419_165557_592_HYDRO.wav           0   \n",
       "1559  Glider SPAms 2019  30_113_040419_190557_182_HYDRO.wav           0   \n",
       "1562  Glider SPAms 2019  30_114_050419_002557_671_HYDRO.wav           0   \n",
       "1563  Glider SPAms 2019  30_114_050419_011557_310_HYDRO.wav           0   \n",
       "\n",
       "      end_time  start_frequency  end_frequency      annotation annotator  \n",
       "456        600              NaN           2000  Orque vocalise     Brest  \n",
       "457        600              NaN           2000  Orque vocalise     Brest  \n",
       "582        600              NaN           2000  Orque vocalise     Brest  \n",
       "595        600              NaN           2000  Orque vocalise     Brest  \n",
       "794        600              NaN           2000  Orque vocalise     Brest  \n",
       "...        ...              ...            ...             ...       ...  \n",
       "1556       600              NaN           2000  Orque vocalise     Brest  \n",
       "1558       600              NaN           2000  Orque vocalise     Brest  \n",
       "1559       600              NaN           2000  Orque vocalise     Brest  \n",
       "1562       600              NaN           2000  Orque vocalise     Brest  \n",
       "1563       600              NaN           2000  Orque vocalise     Brest  \n",
       "\n",
       "[329 rows x 8 columns]"
      ]
     },
     "execution_count": 3,
     "metadata": {},
     "output_type": "execute_result"
    }
   ],
   "source": [
    "df[df['annotation']=='Orque vocalise']"
   ]
  },
  {
   "cell_type": "code",
   "execution_count": 4,
   "metadata": {},
   "outputs": [
    {
     "name": "stdout",
     "output_type": "stream",
     "text": [
      "1564\n"
     ]
    },
    {
     "data": {
      "text/plain": [
       "array(['Cachalot', 'Son impulsionnel Indetermine',\n",
       "       'Autre delphinidé vocalise', 'autre delphinidé clic',\n",
       "       'Autre myscticète', 'Orque vocalise', 'Baleine à bosse'],\n",
       "      dtype=object)"
      ]
     },
     "execution_count": 4,
     "metadata": {},
     "output_type": "execute_result"
    }
   ],
   "source": [
    "print(len(df))\n",
    "df.annotation.unique()"
   ]
  },
  {
   "cell_type": "code",
   "execution_count": 5,
   "metadata": {},
   "outputs": [],
   "source": [
    "#spectros : /home/datawork-osmose/dataset/GliderSPAms/analysis/spectrograms/4000_HR/"
   ]
  },
  {
   "cell_type": "code",
   "execution_count": 8,
   "metadata": {},
   "outputs": [
    {
     "data": {
      "text/plain": [
       "'/home/datawork-osmose/dataset/GliderSPAms/analysis/spectrograms/4000'"
      ]
     },
     "execution_count": 8,
     "metadata": {},
     "output_type": "execute_result"
    }
   ],
   "source": [
    "nom_dir = \"/home/datawork-osmose/dataset/GliderSPAms/analysis/spectrograms/4000/\"\n",
    "\n",
    "os.chdir(nom_dir)\n",
    "os.getcwd()"
   ]
  },
  {
   "cell_type": "code",
   "execution_count": 9,
   "metadata": {},
   "outputs": [],
   "source": [
    "l_png = os.listdir()\n",
    "\n",
    "for i in range(len(l_png)):\n",
    "    l_png[i] = l_png[i].replace(\".png\",\"\")"
   ]
  },
  {
   "cell_type": "markdown",
   "metadata": {},
   "source": [
    "---\n",
    "# Data formatting\n",
    "---"
   ]
  },
  {
   "cell_type": "code",
   "execution_count": 10,
   "metadata": {},
   "outputs": [
    {
     "name": "stdout",
     "output_type": "stream",
     "text": [
      "4574\n"
     ]
    }
   ],
   "source": [
    "print(len(l_png))"
   ]
  },
  {
   "cell_type": "code",
   "execution_count": 11,
   "metadata": {},
   "outputs": [
    {
     "name": "stdout",
     "output_type": "stream",
     "text": [
      "1564\n"
     ]
    }
   ],
   "source": [
    "filename = list(df.filename.values)\n",
    "\n",
    "for i in range(len(filename)):\n",
    "    filename[i] = filename[i].replace(\".wav\",\"\")\n",
    "    \n",
    "print(len(filename))"
   ]
  },
  {
   "cell_type": "code",
   "execution_count": 12,
   "metadata": {},
   "outputs": [
    {
     "name": "stdout",
     "output_type": "stream",
     "text": [
      "['29_125_040319_152539_68_HYDRO', '29_125_040319_151539_70_HYDRO', '29_126_040319_155539_76_HYDRO']\n",
      "['29_232_120319_174539_2_HYDRO', '30_83_300319_230557_436_HYDRO', '29_243_140319_134539_226_HYDRO']\n"
     ]
    }
   ],
   "source": [
    "print(filename[:3])\n",
    "print(l_png[:3])"
   ]
  },
  {
   "cell_type": "code",
   "execution_count": 13,
   "metadata": {},
   "outputs": [],
   "source": [
    "res = []\n",
    "for i in filename :\n",
    "    res.append(np.isin(i,l_png).tolist())\n",
    "    \n",
    "idx = np.where(res)[0]"
   ]
  },
  {
   "cell_type": "code",
   "execution_count": 14,
   "metadata": {},
   "outputs": [
    {
     "data": {
      "text/plain": [
       "0"
      ]
     },
     "execution_count": 14,
     "metadata": {},
     "output_type": "execute_result"
    }
   ],
   "source": [
    "idx[0]"
   ]
  },
  {
   "cell_type": "code",
   "execution_count": 15,
   "metadata": {},
   "outputs": [],
   "source": [
    "for i in idx :\n",
    "    del l_png[i]"
   ]
  },
  {
   "cell_type": "code",
   "execution_count": 16,
   "metadata": {},
   "outputs": [],
   "source": [
    "for i in range(len(l_png)):\n",
    "    l_png[i] = l_png[i] + \".png\""
   ]
  },
  {
   "cell_type": "code",
   "execution_count": 17,
   "metadata": {},
   "outputs": [
    {
     "data": {
      "text/html": [
       "<div>\n",
       "<style scoped>\n",
       "    .dataframe tbody tr th:only-of-type {\n",
       "        vertical-align: middle;\n",
       "    }\n",
       "\n",
       "    .dataframe tbody tr th {\n",
       "        vertical-align: top;\n",
       "    }\n",
       "\n",
       "    .dataframe thead th {\n",
       "        text-align: right;\n",
       "    }\n",
       "</style>\n",
       "<table border=\"1\" class=\"dataframe\">\n",
       "  <thead>\n",
       "    <tr style=\"text-align: right;\">\n",
       "      <th></th>\n",
       "      <th>filename</th>\n",
       "      <th>label</th>\n",
       "    </tr>\n",
       "  </thead>\n",
       "  <tbody>\n",
       "    <tr>\n",
       "      <th>0</th>\n",
       "      <td>30_83_300319_230557_436_HYDRO.png</td>\n",
       "      <td>0</td>\n",
       "    </tr>\n",
       "    <tr>\n",
       "      <th>1</th>\n",
       "      <td>30_115_050419_044557_469_HYDRO.png</td>\n",
       "      <td>0</td>\n",
       "    </tr>\n",
       "    <tr>\n",
       "      <th>2</th>\n",
       "      <td>30_64_270319_204557_454_HYDRO.png</td>\n",
       "      <td>0</td>\n",
       "    </tr>\n",
       "    <tr>\n",
       "      <th>3</th>\n",
       "      <td>29_67_020319_182539_518_HYDRO.png</td>\n",
       "      <td>0</td>\n",
       "    </tr>\n",
       "    <tr>\n",
       "      <th>4</th>\n",
       "      <td>30_33_220319_142557_148_HYDRO.png</td>\n",
       "      <td>0</td>\n",
       "    </tr>\n",
       "  </tbody>\n",
       "</table>\n",
       "</div>"
      ],
      "text/plain": [
       "                             filename  label\n",
       "0   30_83_300319_230557_436_HYDRO.png      0\n",
       "1  30_115_050419_044557_469_HYDRO.png      0\n",
       "2   30_64_270319_204557_454_HYDRO.png      0\n",
       "3   29_67_020319_182539_518_HYDRO.png      0\n",
       "4   30_33_220319_142557_148_HYDRO.png      0"
      ]
     },
     "execution_count": 17,
     "metadata": {},
     "output_type": "execute_result"
    }
   ],
   "source": [
    "zero = pd.DataFrame(data={'filename':l_png, \"label\":[0 for i in range(len(l_png))]})\n",
    "zero.head()"
   ]
  },
  {
   "cell_type": "code",
   "execution_count": 18,
   "metadata": {},
   "outputs": [],
   "source": [
    "for i in range(len(filename)):\n",
    "    filename[i] = filename[i] + \".png\""
   ]
  },
  {
   "cell_type": "code",
   "execution_count": 19,
   "metadata": {},
   "outputs": [
    {
     "data": {
      "text/html": [
       "<div>\n",
       "<style scoped>\n",
       "    .dataframe tbody tr th:only-of-type {\n",
       "        vertical-align: middle;\n",
       "    }\n",
       "\n",
       "    .dataframe tbody tr th {\n",
       "        vertical-align: top;\n",
       "    }\n",
       "\n",
       "    .dataframe thead th {\n",
       "        text-align: right;\n",
       "    }\n",
       "</style>\n",
       "<table border=\"1\" class=\"dataframe\">\n",
       "  <thead>\n",
       "    <tr style=\"text-align: right;\">\n",
       "      <th></th>\n",
       "      <th>filename</th>\n",
       "      <th>label</th>\n",
       "    </tr>\n",
       "  </thead>\n",
       "  <tbody>\n",
       "    <tr>\n",
       "      <th>0</th>\n",
       "      <td>29_125_040319_152539_68_HYDRO.png</td>\n",
       "      <td>1</td>\n",
       "    </tr>\n",
       "    <tr>\n",
       "      <th>1</th>\n",
       "      <td>29_125_040319_151539_70_HYDRO.png</td>\n",
       "      <td>1</td>\n",
       "    </tr>\n",
       "    <tr>\n",
       "      <th>2</th>\n",
       "      <td>29_126_040319_155539_76_HYDRO.png</td>\n",
       "      <td>1</td>\n",
       "    </tr>\n",
       "    <tr>\n",
       "      <th>3</th>\n",
       "      <td>29_138_040319_223539_95_HYDRO.png</td>\n",
       "      <td>1</td>\n",
       "    </tr>\n",
       "    <tr>\n",
       "      <th>4</th>\n",
       "      <td>29_139_040319_230539_86_HYDRO.png</td>\n",
       "      <td>1</td>\n",
       "    </tr>\n",
       "  </tbody>\n",
       "</table>\n",
       "</div>"
      ],
      "text/plain": [
       "                            filename  label\n",
       "0  29_125_040319_152539_68_HYDRO.png      1\n",
       "1  29_125_040319_151539_70_HYDRO.png      1\n",
       "2  29_126_040319_155539_76_HYDRO.png      1\n",
       "3  29_138_040319_223539_95_HYDRO.png      1\n",
       "4  29_139_040319_230539_86_HYDRO.png      1"
      ]
     },
     "execution_count": 19,
     "metadata": {},
     "output_type": "execute_result"
    }
   ],
   "source": [
    "un = pd.DataFrame(data={'filename':filename,'label':[1 for i in range(len(filename))]})\n",
    "un.head()"
   ]
  },
  {
   "cell_type": "code",
   "execution_count": 20,
   "metadata": {},
   "outputs": [
    {
     "data": {
      "text/html": [
       "<div>\n",
       "<style scoped>\n",
       "    .dataframe tbody tr th:only-of-type {\n",
       "        vertical-align: middle;\n",
       "    }\n",
       "\n",
       "    .dataframe tbody tr th {\n",
       "        vertical-align: top;\n",
       "    }\n",
       "\n",
       "    .dataframe thead th {\n",
       "        text-align: right;\n",
       "    }\n",
       "</style>\n",
       "<table border=\"1\" class=\"dataframe\">\n",
       "  <thead>\n",
       "    <tr style=\"text-align: right;\">\n",
       "      <th></th>\n",
       "      <th>filename</th>\n",
       "      <th>label</th>\n",
       "    </tr>\n",
       "  </thead>\n",
       "  <tbody>\n",
       "    <tr>\n",
       "      <th>0</th>\n",
       "      <td>30_83_300319_230557_436_HYDRO.png</td>\n",
       "      <td>0</td>\n",
       "    </tr>\n",
       "    <tr>\n",
       "      <th>1</th>\n",
       "      <td>30_115_050419_044557_469_HYDRO.png</td>\n",
       "      <td>0</td>\n",
       "    </tr>\n",
       "    <tr>\n",
       "      <th>2</th>\n",
       "      <td>30_64_270319_204557_454_HYDRO.png</td>\n",
       "      <td>0</td>\n",
       "    </tr>\n",
       "    <tr>\n",
       "      <th>3</th>\n",
       "      <td>29_67_020319_182539_518_HYDRO.png</td>\n",
       "      <td>0</td>\n",
       "    </tr>\n",
       "    <tr>\n",
       "      <th>4</th>\n",
       "      <td>30_33_220319_142557_148_HYDRO.png</td>\n",
       "      <td>0</td>\n",
       "    </tr>\n",
       "  </tbody>\n",
       "</table>\n",
       "</div>"
      ],
      "text/plain": [
       "                             filename  label\n",
       "0   30_83_300319_230557_436_HYDRO.png      0\n",
       "1  30_115_050419_044557_469_HYDRO.png      0\n",
       "2   30_64_270319_204557_454_HYDRO.png      0\n",
       "3   29_67_020319_182539_518_HYDRO.png      0\n",
       "4   30_33_220319_142557_148_HYDRO.png      0"
      ]
     },
     "execution_count": 20,
     "metadata": {},
     "output_type": "execute_result"
    }
   ],
   "source": [
    "df_final = pd.concat([zero,un],ignore_index=True)\n",
    "df_final.head()"
   ]
  },
  {
   "cell_type": "markdown",
   "metadata": {},
   "source": [
    "---\n",
    "# Visualisation des données\n",
    "---"
   ]
  },
  {
   "cell_type": "code",
   "execution_count": 22,
   "metadata": {},
   "outputs": [
    {
     "name": "stdout",
     "output_type": "stream",
     "text": [
      "Proportion d'évènements dans le dataset : 34%\n"
     ]
    },
    {
     "data": {
      "image/png": "[encoded data removed]",
      "text/plain": [
       "<Figure size 432x288 with 1 Axes>"
      ]
     },
     "metadata": {
      "needs_background": "light"
     },
     "output_type": "display_data"
    }
   ],
   "source": [
    "sns.histplot(df_final.label)\n",
    "print(f\"Proportion d'évènements dans le dataset : {int(df_final.label.sum()/len(df_final)*100)}%\")"
   ]
  },
  {
   "cell_type": "markdown",
   "metadata": {},
   "source": [
    "\n",
    "---\n",
    "# Deep learning preparation\n",
    "---"
   ]
  },
  {
   "cell_type": "code",
   "execution_count": 23,
   "metadata": {},
   "outputs": [
    {
     "data": {
      "text/html": [
       "<div>\n",
       "<style scoped>\n",
       "    .dataframe tbody tr th:only-of-type {\n",
       "        vertical-align: middle;\n",
       "    }\n",
       "\n",
       "    .dataframe tbody tr th {\n",
       "        vertical-align: top;\n",
       "    }\n",
       "\n",
       "    .dataframe thead th {\n",
       "        text-align: right;\n",
       "    }\n",
       "</style>\n",
       "<table border=\"1\" class=\"dataframe\">\n",
       "  <thead>\n",
       "    <tr style=\"text-align: right;\">\n",
       "      <th></th>\n",
       "      <th>filename</th>\n",
       "      <th>label</th>\n",
       "    </tr>\n",
       "  </thead>\n",
       "  <tbody>\n",
       "    <tr>\n",
       "      <th>0</th>\n",
       "      <td>30_83_300319_230557_436_HYDRO.png</td>\n",
       "      <td>0</td>\n",
       "    </tr>\n",
       "    <tr>\n",
       "      <th>1</th>\n",
       "      <td>30_115_050419_044557_469_HYDRO.png</td>\n",
       "      <td>0</td>\n",
       "    </tr>\n",
       "    <tr>\n",
       "      <th>2</th>\n",
       "      <td>30_64_270319_204557_454_HYDRO.png</td>\n",
       "      <td>0</td>\n",
       "    </tr>\n",
       "    <tr>\n",
       "      <th>3</th>\n",
       "      <td>29_67_020319_182539_518_HYDRO.png</td>\n",
       "      <td>0</td>\n",
       "    </tr>\n",
       "    <tr>\n",
       "      <th>4</th>\n",
       "      <td>30_33_220319_142557_148_HYDRO.png</td>\n",
       "      <td>0</td>\n",
       "    </tr>\n",
       "  </tbody>\n",
       "</table>\n",
       "</div>"
      ],
      "text/plain": [
       "                             filename label\n",
       "0   30_83_300319_230557_436_HYDRO.png     0\n",
       "1  30_115_050419_044557_469_HYDRO.png     0\n",
       "2   30_64_270319_204557_454_HYDRO.png     0\n",
       "3   29_67_020319_182539_518_HYDRO.png     0\n",
       "4   30_33_220319_142557_148_HYDRO.png     0"
      ]
     },
     "execution_count": 23,
     "metadata": {},
     "output_type": "execute_result"
    }
   ],
   "source": [
    "df_final.filename = df_final.filename.astype(str)\n",
    "df_final.label = df_final.label.astype(str)\n",
    "df_final.head()"
   ]
  },
  {
   "cell_type": "code",
   "execution_count": 24,
   "metadata": {},
   "outputs": [],
   "source": [
    "# train test split\n",
    "train_df, test_df = train_test_split(df_final, train_size=0.7, shuffle = True, random_state=1)"
   ]
  },
  {
   "cell_type": "code",
   "execution_count": 25,
   "metadata": {},
   "outputs": [
    {
     "data": {
      "text/plain": [
       "<AxesSubplot:xlabel='label', ylabel='Count'>"
      ]
     },
     "execution_count": 25,
     "metadata": {},
     "output_type": "execute_result"
    },
    {
     "data": {
      "image/png": "[encoded data removed]",
      "text/plain": [
       "<Figure size 1440x720 with 2 Axes>"
      ]
     },
     "metadata": {
      "needs_background": "light"
     },
     "output_type": "display_data"
    }
   ],
   "source": [
    "plt.figure(1,figsize=(20,10))\n",
    "plt.subplot(2,2,1)\n",
    "sns.histplot(train_df.label)\n",
    "plt.subplot(2,2,2)\n",
    "sns.histplot(test_df.label)"
   ]
  },
  {
   "cell_type": "code",
   "execution_count": 26,
   "metadata": {},
   "outputs": [],
   "source": [
    "# Transform Image\n",
    "train_generator = tf.keras.preprocessing.image.ImageDataGenerator(\n",
    "    rescale = 1./255,\n",
    "    horizontal_flip = True,\n",
    "    width_shift_range = 0.2,\n",
    "    height_shift_range = 0.2,\n",
    "    validation_split = 0.2\n",
    ")\n",
    "test_generator = tf.keras.preprocessing.image.ImageDataGenerator(\n",
    "    rescale = 1./255\n",
    ")"
   ]
  },
  {
   "cell_type": "code",
   "execution_count": 27,
   "metadata": {},
   "outputs": [],
   "source": [
    "# loss2 = \"categorical_crossentropy\""
   ]
  },
  {
   "cell_type": "code",
   "execution_count": 28,
   "metadata": {},
   "outputs": [
    {
     "name": "stdout",
     "output_type": "stream",
     "text": [
      "Found 2561 validated image filenames belonging to 2 classes.\n",
      "Found 640 validated image filenames belonging to 2 classes.\n",
      "Found 1373 validated image filenames belonging to 2 classes.\n"
     ]
    }
   ],
   "source": [
    "train_img = train_generator.flow_from_dataframe(\n",
    "    dataframe = train_df,\n",
    "    x_col = 'filename',\n",
    "    y_col = 'label',\n",
    "    target_size = (204, 704),\n",
    "    color_mode = 'rgba',\n",
    "    class_mode = 'categorical',\n",
    "    batch_size = 32,\n",
    "    shuffle = True,\n",
    "    seed =42,\n",
    "    subset = 'training'\n",
    ")\n",
    "val_img = train_generator.flow_from_dataframe(\n",
    "    dataframe = train_df,\n",
    "    x_col = 'filename',\n",
    "    y_col = 'label',\n",
    "    target_size = (204, 704),\n",
    "    color_mode = 'rgba',\n",
    "    class_mode = 'categorical',\n",
    "    batch_size = 32,\n",
    "    shuffle = True,\n",
    "    seed = 42,\n",
    "    subset = 'validation'\n",
    ")\n",
    "\n",
    "test_img = test_generator.flow_from_dataframe(\n",
    "    dataframe = test_df,\n",
    "    x_col = 'filename',\n",
    "    y_col = 'label',\n",
    "    target_size = (204, 704),\n",
    "    color_mode = 'rgba',\n",
    "    class_mode = 'categorical',\n",
    "    batch_size = 32,\n",
    "    shuffle = False\n",
    ")"
   ]
  },
  {
   "cell_type": "code",
   "execution_count": 29,
   "metadata": {},
   "outputs": [
    {
     "name": "stdout",
     "output_type": "stream",
     "text": [
      "Weight for class 0: 0.76\n",
      "Weight for class 1: 1.46\n",
      "Model: \"model\"\n",
      "_________________________________________________________________\n",
      "Layer (type)                 Output Shape              Param #   \n",
      "=================================================================\n",
      "input_1 (InputLayer)         [(None, 204, 704, 4)]     0         \n",
      "_________________________________________________________________\n",
      "conv2d (Conv2D)              (None, 204, 704, 16)      592       \n",
      "_________________________________________________________________\n",
      "conv2d_1 (Conv2D)            (None, 204, 704, 16)      2320      \n",
      "_________________________________________________________________\n",
      "batch_normalization (BatchNo (None, 204, 704, 16)      64        \n",
      "_________________________________________________________________\n",
      "max_pooling2d (MaxPooling2D) (None, 102, 352, 16)      0         \n",
      "_________________________________________________________________\n",
      "dropout (Dropout)            (None, 102, 352, 16)      0         \n",
      "_________________________________________________________________\n",
      "conv2d_2 (Conv2D)            (None, 102, 352, 32)      4640      \n",
      "_________________________________________________________________\n",
      "conv2d_3 (Conv2D)            (None, 102, 352, 32)      9248      \n",
      "_________________________________________________________________\n",
      "batch_normalization_1 (Batch (None, 102, 352, 32)      128       \n",
      "_________________________________________________________________\n",
      "max_pooling2d_1 (MaxPooling2 (None, 51, 176, 32)       0         \n",
      "_________________________________________________________________\n",
      "dropout_1 (Dropout)          (None, 51, 176, 32)       0         \n",
      "_________________________________________________________________\n",
      "conv2d_4 (Conv2D)            (None, 51, 176, 64)       18496     \n",
      "_________________________________________________________________\n",
      "conv2d_5 (Conv2D)            (None, 51, 176, 64)       36928     \n",
      "_________________________________________________________________\n",
      "batch_normalization_2 (Batch (None, 51, 176, 64)       256       \n",
      "_________________________________________________________________\n",
      "max_pooling2d_2 (MaxPooling2 (None, 25, 88, 64)        0         \n",
      "_________________________________________________________________\n",
      "dropout_2 (Dropout)          (None, 25, 88, 64)        0         \n",
      "_________________________________________________________________\n",
      "conv2d_6 (Conv2D)            (None, 25, 88, 128)       73856     \n",
      "_________________________________________________________________\n",
      "conv2d_7 (Conv2D)            (None, 25, 88, 128)       147584    \n",
      "_________________________________________________________________\n",
      "batch_normalization_3 (Batch (None, 25, 88, 128)       512       \n",
      "_________________________________________________________________\n",
      "max_pooling2d_3 (MaxPooling2 (None, 12, 44, 128)       0         \n",
      "_________________________________________________________________\n",
      "dropout_3 (Dropout)          (None, 12, 44, 128)       0         \n",
      "_________________________________________________________________\n",
      "conv2d_8 (Conv2D)            (None, 12, 44, 256)       295168    \n",
      "_________________________________________________________________\n",
      "conv2d_9 (Conv2D)            (None, 12, 44, 256)       590080    \n",
      "_________________________________________________________________\n",
      "batch_normalization_4 (Batch (None, 12, 44, 256)       1024      \n",
      "_________________________________________________________________\n",
      "max_pooling2d_4 (MaxPooling2 (None, 6, 22, 256)        0         \n",
      "_________________________________________________________________\n",
      "dropout_4 (Dropout)          (None, 6, 22, 256)        0         \n",
      "_________________________________________________________________\n",
      "flatten (Flatten)            (None, 33792)             0         \n",
      "_________________________________________________________________\n",
      "dense (Dense)                (None, 1024)              34604032  \n",
      "_________________________________________________________________\n",
      "batch_normalization_5 (Batch (None, 1024)              4096      \n",
      "_________________________________________________________________\n",
      "dropout_5 (Dropout)          (None, 1024)              0         \n",
      "_________________________________________________________________\n",
      "dense_1 (Dense)              (None, 512)               524800    \n",
      "_________________________________________________________________\n",
      "batch_normalization_6 (Batch (None, 512)               2048      \n",
      "_________________________________________________________________\n",
      "dropout_6 (Dropout)          (None, 512)               0         \n",
      "_________________________________________________________________\n",
      "dense_2 (Dense)              (None, 256)               131328    \n",
      "_________________________________________________________________\n",
      "batch_normalization_7 (Batch (None, 256)               1024      \n",
      "_________________________________________________________________\n",
      "dropout_7 (Dropout)          (None, 256)               0         \n",
      "_________________________________________________________________\n",
      "dense_3 (Dense)              (None, 64)                16448     \n",
      "_________________________________________________________________\n",
      "batch_normalization_8 (Batch (None, 64)                256       \n",
      "_________________________________________________________________\n",
      "dropout_8 (Dropout)          (None, 64)                0         \n",
      "_________________________________________________________________\n",
      "dense_4 (Dense)              (None, 2)                 130       \n",
      "=================================================================\n",
      "Total params: 36,465,058\n",
      "Trainable params: 36,460,354\n",
      "Non-trainable params: 4,704\n",
      "_________________________________________________________________\n",
      "Epoch 1/10\n",
      "81/81 [==============================] - 368s 4s/step - loss: 1.0408 - accuracy: 0.5006 - val_loss: 0.6818 - val_accuracy: 0.6766\n",
      "Epoch 2/10\n",
      "81/81 [==============================] - 350s 4s/step - loss: 0.8702 - accuracy: 0.5170 - val_loss: 0.8302 - val_accuracy: 0.3234\n",
      "Epoch 3/10\n",
      "81/81 [==============================] - 361s 4s/step - loss: 0.7777 - accuracy: 0.5117 - val_loss: 0.6570 - val_accuracy: 0.5969\n",
      "Epoch 4/10\n",
      "81/81 [==============================] - 357s 4s/step - loss: 0.7458 - accuracy: 0.4925 - val_loss: 0.7128 - val_accuracy: 0.5328\n",
      "Epoch 5/10\n",
      "81/81 [==============================] - 364s 4s/step - loss: 0.7382 - accuracy: 0.5203 - val_loss: 0.7786 - val_accuracy: 0.3562\n",
      "Epoch 6/10\n",
      "81/81 [==============================] - 351s 4s/step - loss: 0.7203 - accuracy: 0.5457 - val_loss: 0.7958 - val_accuracy: 0.3781\n",
      "Epoch 7/10\n",
      "81/81 [==============================] - 371s 5s/step - loss: 0.7052 - accuracy: 0.5255 - val_loss: 0.7377 - val_accuracy: 0.4094\n",
      "Epoch 8/10\n",
      "81/81 [==============================] - 361s 4s/step - loss: 0.6929 - accuracy: 0.5470 - val_loss: 0.7301 - val_accuracy: 0.4109\n"
     ]
    }
   ],
   "source": [
    "from tensorflow.keras.layers import *\n",
    "from tensorflow.keras import Model\n",
    "\n",
    "def Network():\n",
    "    inputs = tf.keras.Input(shape=(204, 704, 4))\n",
    "    x = Conv2D(16, kernel_size=(3, 3), activation='relu', padding='same')(inputs)\n",
    "    x = Conv2D(16, kernel_size=(3, 3), activation='relu', padding='same')(x)\n",
    "    \n",
    "    x = BatchNormalization()(x)\n",
    "    x = MaxPool2D(pool_size=(2, 2))(x)\n",
    "    x = Dropout(0.2)(x)\n",
    "        \n",
    "    x = Conv2D(32, kernel_size=(3, 3), activation='relu', padding='same')(x)\n",
    "    x = Conv2D(32, kernel_size=(3, 3), activation='relu', padding='same')(x)\n",
    "    x = BatchNormalization()(x)\n",
    "    x = MaxPool2D(pool_size=(2, 2))(x)\n",
    "    x = Dropout(0.2)(x)\n",
    "        \n",
    "    x = Conv2D(64, kernel_size=(3, 3), activation='relu', padding='same')(x)\n",
    "    x = Conv2D(64, kernel_size=(3, 3), activation='relu', padding='same')(x)\n",
    "    x = BatchNormalization()(x)\n",
    "    x = MaxPool2D(pool_size=(2, 2))(x)\n",
    "    x = Dropout(0.2)(x)\n",
    "        \n",
    "    x = Conv2D(128, kernel_size=(3, 3), activation='relu', padding='same')(x)\n",
    "    x = Conv2D(128, kernel_size=(3, 3), activation='relu', padding='same')(x)\n",
    "    x = BatchNormalization()(x)\n",
    "    x = MaxPool2D(pool_size=(2, 2))(x)\n",
    "    x = Dropout(0.2)(x)\n",
    "        \n",
    "    x = Conv2D(256, kernel_size=(3, 3), activation='relu', padding='same')(x)\n",
    "    x = Conv2D(256, kernel_size=(3, 3), activation='relu', padding='same')(x)\n",
    "    x = BatchNormalization()(x)\n",
    "    x = MaxPool2D(pool_size=(2, 2))(x)\n",
    "    x = Dropout(0.2)(x)\n",
    "        \n",
    "    x = Flatten()(x)\n",
    "       \n",
    "    x = Dense(1024, activation='relu')(x)\n",
    "    x = BatchNormalization()(x)\n",
    "    x = Dropout(0.5)(x)\n",
    "        \n",
    "    x = Dense(512, activation='relu')(x)\n",
    "    x = BatchNormalization()(x)\n",
    "    x = Dropout(0.4)(x)\n",
    "        \n",
    "    x = Dense(256, activation='relu')(x)\n",
    "    x = BatchNormalization()(x)\n",
    "    x = Dropout(0.3)(x)\n",
    "        \n",
    "    x = Dense(64, activation='relu')(x)\n",
    "    x = BatchNormalization()(x)\n",
    "    x = Dropout(0.2)(x)\n",
    "        \n",
    "    output = Dense(2, activation = \"softmax\")(x)\n",
    "    \n",
    "    model = Model(inputs, output)\n",
    "    \n",
    "    return model\n",
    "\n",
    "model = Network()\n",
    "\n",
    "normal = len(zero)\n",
    "presence = len(un)\n",
    "total = len(df_final)\n",
    "\n",
    "\n",
    "weight_for_0 = (1/normal) * (total) / 2.0 \n",
    "weight_for_1 = (1/presence) * (total) / 2.0\n",
    "\n",
    "class_weight = {0: weight_for_0, 1: weight_for_1}\n",
    "\n",
    "print('Weight for class 0: {:.2f}'.format(weight_for_0))\n",
    "print('Weight for class 1: {:.2f}'.format(weight_for_1))\n",
    "\n",
    "model.compile(\n",
    "    optimizer = 'adam',\n",
    "    loss = 'categorical_crossentropy',\n",
    "    metrics = ['accuracy']\n",
    ")\n",
    "\n",
    "model.summary()\n",
    "\n",
    "history = model.fit(\n",
    "    train_img,\n",
    "    validation_data = val_img,\n",
    "    epochs = 10,\n",
    "    class_weight=class_weight,\n",
    "    callbacks = [\n",
    "        tf.keras.callbacks.EarlyStopping(\n",
    "        monitor = 'val_loss',\n",
    "        patience = 5,\n",
    "        restore_best_weights = True\n",
    "        ),\n",
    "        tf.keras.callbacks.ReduceLROnPlateau(\n",
    "        monitor = 'val_loss',\n",
    "        patinence = 3\n",
    "        )\n",
    "    ])"
   ]
  },
  {
   "cell_type": "code",
   "execution_count": 30,
   "metadata": {},
   "outputs": [
    {
     "data": {
      "image/png": "[encoded data removed]",
      "text/plain": [
       "<Figure size 1440x360 with 2 Axes>"
      ]
     },
     "metadata": {
      "needs_background": "light"
     },
     "output_type": "display_data"
    }
   ],
   "source": [
    "fig = plt.figure(figsize=(20,5))\n",
    "\n",
    "ax = plt.subplot(131)\n",
    "\n",
    "epochs = [i for i in range(len(history.history['loss']))]\n",
    "ax.plot(epochs, history.history['loss'], label='loss')\n",
    "ax.plot(epochs, history.history['val_loss'], label='val_loss')\n",
    "plt.legend()\n",
    "\n",
    "ax = plt.subplot(132)\n",
    "ax.plot(epochs, history.history['accuracy'], label='accuracy')\n",
    "ax.plot(epochs, history.history['val_accuracy'], label='val_accuracy')\n",
    "plt.legend()\n",
    "\n",
    "plt.show()"
   ]
  },
  {
   "cell_type": "code",
   "execution_count": 13,
   "metadata": {},
   "outputs": [
    {
     "data": {
      "text/plain": [
       "'/home4/datahome/rbessoua/Presence'"
      ]
     },
     "execution_count": 13,
     "metadata": {},
     "output_type": "execute_result"
    }
   ],
   "source": [
    "nom_dir = \"/home4/datahome/rbessoua/Presence/\"\n",
    "\n",
    "os.chdir(nom_dir)\n",
    "os.getcwd()"
   ]
  },
  {
   "cell_type": "code",
   "execution_count": 34,
   "metadata": {},
   "outputs": [
    {
     "name": "stdout",
     "output_type": "stream",
     "text": [
      "INFO:tensorflow:Assets written to: 1_model/assets\n"
     ]
    }
   ],
   "source": [
    "model.save(\"1_model\")\n",
    "model.save(\"1_model.h5\")"
   ]
  }
 ],
 "metadata": {
  "kernelspec": {
   "display_name": "Python [conda env:dl-env]",
   "language": "python",
   "name": "conda-env-dl-env-py"
  },
  "language_info": {
   "codemirror_mode": {
    "name": "ipython",
    "version": 3
   },
   "file_extension": ".py",
   "mimetype": "text/x-python",
   "name": "python",
   "nbconvert_exporter": "python",
   "pygments_lexer": "ipython3",
   "version": "3.9.4"
  }
 },
 "nbformat": 4,
 "nbformat_minor": 4
}
